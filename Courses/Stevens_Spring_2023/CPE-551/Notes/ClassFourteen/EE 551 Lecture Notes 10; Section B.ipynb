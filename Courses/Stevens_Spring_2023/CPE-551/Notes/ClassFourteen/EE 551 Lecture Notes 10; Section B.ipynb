{
 "cells": [
  {
   "cell_type": "markdown",
   "metadata": {},
   "source": [
    "# Linked Lists"
   ]
  },
  {
   "cell_type": "markdown",
   "metadata": {},
   "source": [
    "Linked lists are made up pf **nodes**, where each node contains a reference to the next node in the list."
   ]
  },
  {
   "cell_type": "markdown",
   "metadata": {},
   "source": [
    "In addition, each node contains a unit of data."
   ]
  },
  {
   "cell_type": "markdown",
   "metadata": {},
   "source": [
    "### Create a node class that autimatically initializes its own data and next and prints the value of data. The defaults values are None."
   ]
  },
  {
   "cell_type": "code",
   "execution_count": 12,
   "metadata": {},
   "outputs": [],
   "source": [
    "class Node(): \n",
    "    def __init__(self, value = None, next_node = None): \n",
    "        self.data = value \n",
    "        self.next = next_node\n",
    "    def __str__(self): \n",
    "        return str(self.data)"
   ]
  },
  {
   "cell_type": "code",
   "execution_count": 13,
   "metadata": {},
   "outputs": [
    {
     "name": "stdout",
     "output_type": "stream",
     "text": [
      "test\n"
     ]
    }
   ],
   "source": [
    "node = Node(\"test\") \n",
    "\n",
    "print(node) "
   ]
  },
  {
   "cell_type": "markdown",
   "metadata": {},
   "source": [
    "### Create instances node1, node2 and node3 from Node class with data 1, 2, 3, repectively."
   ]
  },
  {
   "cell_type": "code",
   "execution_count": 14,
   "metadata": {},
   "outputs": [
    {
     "name": "stdout",
     "output_type": "stream",
     "text": [
      "1\n",
      "2\n",
      "3\n"
     ]
    }
   ],
   "source": [
    "node1 = Node(1)\n",
    "node2 = Node(2) \n",
    "node3 = Node(3) \n",
    "\n",
    "print(node1)\n",
    "print(node2)\n",
    "print(node3)"
   ]
  },
  {
   "cell_type": "markdown",
   "metadata": {},
   "source": [
    "![alt text](../figures/linked_list_nodes.png)"
   ]
  },
  {
   "cell_type": "markdown",
   "metadata": {},
   "source": [
    "### Now link the nodes such that node1 -> node2 -> node3."
   ]
  },
  {
   "cell_type": "code",
   "execution_count": 15,
   "metadata": {},
   "outputs": [],
   "source": [
    "node1.next = node2\n",
    "node2.next = node3 "
   ]
  },
  {
   "cell_type": "markdown",
   "metadata": {},
   "source": [
    "The reference of the third node is None, which indicates that it is the end of the list."
   ]
  },
  {
   "cell_type": "markdown",
   "metadata": {},
   "source": [
    "![alt text](../figures/linked_list.png)"
   ]
  },
  {
   "cell_type": "markdown",
   "metadata": {},
   "source": [
    "### Write a function printList that takes the head of the list as an argument and prints each node until it gets to the end,"
   ]
  },
  {
   "cell_type": "code",
   "execution_count": 16,
   "metadata": {},
   "outputs": [],
   "source": [
    "def printList(head): \n",
    "    while not head == None: \n",
    "        print(head, end = \" \") \n",
    "        head = head.next "
   ]
  },
  {
   "cell_type": "code",
   "execution_count": 17,
   "metadata": {},
   "outputs": [
    {
     "name": "stdout",
     "output_type": "stream",
     "text": [
      "1 2 3 "
     ]
    }
   ],
   "source": [
    "printList(node1)"
   ]
  },
  {
   "cell_type": "markdown",
   "metadata": {},
   "source": [
    "### Write a function ``printBackward`` that prints the list backward, i.e. starting from tail."
   ]
  },
  {
   "cell_type": "code",
   "execution_count": 1,
   "metadata": {},
   "outputs": [],
   "source": [
    "def printBackward(linked_list): \n",
    "    if not linked_list: return \n",
    "    head = linked_list \n",
    "    tail = head.next  \n",
    "    printBackward(tail) \n",
    "    print(head, end = \" \") "
   ]
  },
  {
   "cell_type": "code",
   "execution_count": 19,
   "metadata": {},
   "outputs": [
    {
     "name": "stdout",
     "output_type": "stream",
     "text": [
      "3 2 1 "
     ]
    }
   ],
   "source": [
    "printBackward(node1)"
   ]
  },
  {
   "cell_type": "markdown",
   "metadata": {},
   "source": [
    "### Will these functions work for infinite lists? "
   ]
  },
  {
   "cell_type": "markdown",
   "metadata": {},
   "source": [
    "![alt text](../figures/infinite_lists.png)"
   ]
  },
  {
   "cell_type": "markdown",
   "metadata": {},
   "source": [
    "### Write a function ``removeSecond`` that removes the second node in the list and returns a reference to the removed node."
   ]
  },
  {
   "cell_type": "code",
   "execution_count": 65,
   "metadata": {},
   "outputs": [],
   "source": [
    "def removeSecond(linked_list): \n",
    "    if not linked_list: return \n",
    "    first = linked_list \n",
    "    second = first.next \n",
    "    first.next = second.next \n",
    "    second.next = None \n",
    "    return second "
   ]
  },
  {
   "cell_type": "code",
   "execution_count": 66,
   "metadata": {},
   "outputs": [
    {
     "name": "stdout",
     "output_type": "stream",
     "text": [
      "Linked list before modification: 1 2 3 \n",
      "\n",
      "Removed node: 2\n",
      "\n",
      "\n",
      "Linked list after modification: 1 3 "
     ]
    }
   ],
   "source": [
    "print(\"Linked list before modification: \", end = \"\") \n",
    "printList(node1) \n",
    "\n",
    "print(\"\\n\")\n",
    "\n",
    "second = removeSecond(node1) \n",
    "print(\"Removed node: \", end = \"\") \n",
    "print(second) \n",
    "\n",
    "print(\"\\n\")\n",
    "\n",
    "print(\"Linked list after modification: \", end = \"\") \n",
    "printList(node1) "
   ]
  },
  {
   "cell_type": "markdown",
   "metadata": {},
   "source": [
    "![alt text](../figures/remove_second_node.png)"
   ]
  },
  {
   "cell_type": "markdown",
   "metadata": {},
   "source": [
    "### Write a function ``printBackwardNicely`` that prints a list in the format ``[3, 2, 1]``."
   ]
  },
  {
   "cell_type": "code",
   "execution_count": 67,
   "metadata": {},
   "outputs": [],
   "source": [
    "def printBackwardNicely(linked_list): \n",
    "    print(\"[\", end = \" \") \n",
    "    printBackward(linked_list)\n",
    "    print(\"]\", end = \"\") \n",
    "    "
   ]
  },
  {
   "cell_type": "code",
   "execution_count": 68,
   "metadata": {},
   "outputs": [
    {
     "name": "stdout",
     "output_type": "stream",
     "text": [
      "[ 3 1 ]"
     ]
    }
   ],
   "source": [
    "printBackwardNicely(node1)"
   ]
  },
  {
   "cell_type": "markdown",
   "metadata": {},
   "source": [
    "``printBackwardNicely`` acts as a **wrapper**, and it uses ``printBackward`` as a **helper**."
   ]
  },
  {
   "cell_type": "markdown",
   "metadata": {},
   "source": [
    "### Create a ``LinkedList`` class whose attributes are `` length`` of the linked list and a reference to the first node."
   ]
  },
  {
   "cell_type": "code",
   "execution_count": null,
   "metadata": {},
   "outputs": [],
   "source": [
    "class LinkedList(): \n",
    "    def __init__(self): \n",
    "        self.head = None \n",
    "        self.length = 0 "
   ]
  },
  {
   "cell_type": "markdown",
   "metadata": {},
   "source": [
    "### Make ``printBackward`` a method of ``Node`` class."
   ]
  },
  {
   "cell_type": "code",
   "execution_count": 85,
   "metadata": {},
   "outputs": [],
   "source": [
    "class Node(): \n",
    "    def __init__(self, value = None, next_node = None): \n",
    "        self.data = value \n",
    "        self.next = next_node\n",
    "    def __str__(self): \n",
    "        return str(self.data) \n",
    "    def printBackward(self): \n",
    "        if self.next != None: \n",
    "            tail = self.next \n",
    "            tail.printBackward()\n",
    "        print(self.data, end = \" \") \n",
    "    \n",
    "    \"\"\"\n",
    "    def printBackward(self): \n",
    "        if not self: return \n",
    "        head = self \n",
    "        tail = head.next  \n",
    "        printBackward(tail) \n",
    "        print(head, end = \" \") \n",
    "    \"\"\""
   ]
  },
  {
   "cell_type": "code",
   "execution_count": 86,
   "metadata": {},
   "outputs": [
    {
     "name": "stdout",
     "output_type": "stream",
     "text": [
      "3 2 1 "
     ]
    }
   ],
   "source": [
    "node1 = Node(1)\n",
    "node2 = Node(2) \n",
    "node3 = Node(3) \n",
    "\n",
    "node1.next = node2\n",
    "node2.next = node3 \n",
    "\n",
    "node1.printBackward()"
   ]
  },
  {
   "cell_type": "markdown",
   "metadata": {},
   "source": [
    "### Define a method ``printBackward`` of ``LinkedList`` class that adds brackets around the values"
   ]
  },
  {
   "cell_type": "code",
   "execution_count": 89,
   "metadata": {},
   "outputs": [],
   "source": [
    "class LinkedList(): \n",
    "    def __init__(self): \n",
    "        self.head = None \n",
    "        self.length = 0 \n",
    "    def printBackward(self): \n",
    "        print(\"[\", end = \" \") \n",
    "        self.head.printBackward()\n",
    "        print(\"]\", end = \"\") "
   ]
  },
  {
   "cell_type": "code",
   "execution_count": 91,
   "metadata": {},
   "outputs": [
    {
     "name": "stdout",
     "output_type": "stream",
     "text": [
      "[ 3 2 1 ]"
     ]
    }
   ],
   "source": [
    "linked_list = LinkedList() \n",
    "linked_list.head = node1 \n",
    "linked_list.printBackward()"
   ]
  },
  {
   "cell_type": "markdown",
   "metadata": {},
   "source": [
    "### Define a method ``addFirst`` that takes value of a data as an argument and puts it at the beginning of the list"
   ]
  },
  {
   "cell_type": "code",
   "execution_count": 92,
   "metadata": {},
   "outputs": [],
   "source": [
    "class LinkedList(): \n",
    "    def __init__(self): \n",
    "        self.head = None \n",
    "        self.length = 0 \n",
    "    def printBackward(self): \n",
    "        print(\"[\", end = \" \") \n",
    "        self.head.printBackward()\n",
    "        print(\"]\", end = \"\") \n",
    "    def addFirst(self, value): \n",
    "        node = Node(value) \n",
    "        node.next = self.head \n",
    "        self.head = node \n",
    "        self.length += 1 "
   ]
  },
  {
   "cell_type": "code",
   "execution_count": 94,
   "metadata": {},
   "outputs": [
    {
     "name": "stdout",
     "output_type": "stream",
     "text": [
      "[ 3 2 1 0 ]"
     ]
    }
   ],
   "source": [
    "linked_list = LinkedList() \n",
    "linked_list.head = node1 \n",
    "linked_list.addFirst(0)\n",
    "\n",
    "linked_list.printBackward()"
   ]
  },
  {
   "cell_type": "markdown",
   "metadata": {},
   "source": [
    "# Stacks"
   ]
  },
  {
   "cell_type": "markdown",
   "metadata": {},
   "source": [
    "A **stack** is a collection, i.e. it is a data structure that contains multiple elements. A stack is sometimes called a “last in, first out” or LIFO data structure, because the last item added is the first to be removed."
   ]
  },
  {
   "cell_type": "markdown",
   "metadata": {},
   "source": [
    "![alt text](../figures/stacks.png)\n",
    "https://www.studytonight.com/data-structures/stack-data-structure"
   ]
  },
  {
   "cell_type": "markdown",
   "metadata": {},
   "source": [
    "### Implement a Stack class that uses a Python list and initilizes an empty items attribute."
   ]
  },
  {
   "cell_type": "code",
   "execution_count": 2,
   "metadata": {},
   "outputs": [],
   "source": [
    "class Stack(): \n",
    "    def __init__(self): \n",
    "        self.items = [] "
   ]
  },
  {
   "cell_type": "markdown",
   "metadata": {},
   "source": [
    "### Define a method ``push`` of class ``Stack`` that adds an item to the stack. The method takes item as an argument ."
   ]
  },
  {
   "cell_type": "code",
   "execution_count": 3,
   "metadata": {},
   "outputs": [],
   "source": [
    "class Stack(): \n",
    "    def __init__(self): \n",
    "        self.items = [] \n",
    "    def push(self, item): \n",
    "        self.items.append(item) "
   ]
  },
  {
   "cell_type": "markdown",
   "metadata": {},
   "source": [
    "### Define a method ``pop`` of class ``Stack`` that removes an item from the stack and returns the popped item."
   ]
  },
  {
   "cell_type": "code",
   "execution_count": 4,
   "metadata": {},
   "outputs": [],
   "source": [
    "class Stack(): \n",
    "    def __init__(self): \n",
    "        self.items = [] \n",
    "    def push(self, item): \n",
    "        self.items.append(item) \n",
    "    def pop(self): \n",
    "        return self.items.pop() "
   ]
  },
  {
   "cell_type": "markdown",
   "metadata": {},
   "source": [
    "### Define a method ``isEmpty`` of class ``Stack`` that returns True if the stack is empty."
   ]
  },
  {
   "cell_type": "code",
   "execution_count": 7,
   "metadata": {},
   "outputs": [],
   "source": [
    "class Stack(): \n",
    "    def __init__(self): \n",
    "        self.items = [] \n",
    "    def push(self, item): \n",
    "        self.items.append(item) \n",
    "    def pop(self): \n",
    "        return self.items.pop() \n",
    "    def isEmpty(self): \n",
    "        return len(self.items) == 0 "
   ]
  },
  {
   "cell_type": "markdown",
   "metadata": {},
   "source": [
    "### Demonstrate a usage of Stack: add items 54, 45, \"+\" and remove all items until the stack is empty"
   ]
  },
  {
   "cell_type": "code",
   "execution_count": 8,
   "metadata": {},
   "outputs": [
    {
     "name": "stdout",
     "output_type": "stream",
     "text": [
      "+\n",
      "45\n",
      "54\n"
     ]
    }
   ],
   "source": [
    "s = Stack() \n",
    "s.push(54) \n",
    "s.push(45) \n",
    "s.push(\"+\") \n",
    "\n",
    "while not s.isEmpty(): \n",
    "    print(s.pop())"
   ]
  },
  {
   "cell_type": "markdown",
   "metadata": {},
   "source": [
    "## Using a stack to evaluate postfix\n",
    "\n",
    "In most programming languages, mathematical expressions are written with the operator between the two operands, as in ``1+2``. This format is called **infix**. An alternative used by some calculators is called **postfix**. In postfix, the operator follows the operands, as in ``1 2 +``.\n",
    "\n",
    "The reason postfix is sometimes useful is that there is a natural way to evaluate a postfix expression using a stack:"
   ]
  },
  {
   "cell_type": "markdown",
   "metadata": {},
   "source": [
    "* Starting at the beginning of the expression, get one term (operator or operand) at a time.\n",
    "    - If the term is an operand, push it on the stack.\n",
    "    - If the term is an operator, pop two operands off the stack, perform the operation on them, and push the result back on the stack.\n",
    "    \n",
    "* When you get to the end of the expression, there should be exactly one operand left on the stack. That operand is the result.\n"
   ]
  },
  {
   "cell_type": "raw",
   "metadata": {},
   "source": [
    "Example: 1 2 + 3 *\n",
    "\n",
    "========================\n",
    "val = 1\n",
    "stack = [1]\n",
    "\n",
    "========================\n",
    "val = 2\n",
    "stack = [1, 2]\n",
    "\n",
    "========================\n",
    "val = +\n",
    "item1 = stack.pop() # 2\n",
    "item2 = stack.pop() # 1\n",
    "stack = []\n",
    "res = item1 + item2 # 3\n",
    "stack = [3]\n",
    "\n",
    "========================\n",
    "val = 3\n",
    "stack = [3, 3]\n",
    "\n",
    "========================\n",
    "val = *\n",
    "item1 = stack.pop() # 3\n",
    "item2 = stack.pop() # 3\n",
    "stack = []\n",
    "res = item1 * item2 # 9\n",
    "stack = [9]\n",
    "\n",
    "========================\n",
    "result = 9"
   ]
  },
  {
   "cell_type": "markdown",
   "metadata": {},
   "source": [
    "### Write a function ``evalPostfix`` that takes a string with space as delimiter and evaluates the value of postfix. Assume we have only two operators: ``*`` and ``+``."
   ]
  },
  {
   "cell_type": "code",
   "execution_count": 2,
   "metadata": {},
   "outputs": [],
   "source": [
    "def evalPostfix(expr): \n",
    "    tokens = expr.split(\" \") \n",
    "    stack = Stack() \n",
    "    for token in tokens: \n",
    "        if token == \"+\": \n",
    "            num1 = stack.pop() \n",
    "            num2 = stack.pop() \n",
    "            res = num1 + num2 \n",
    "            stack.push(res) \n",
    "        elif token == \"*\": \n",
    "            num1 = stack.pop() \n",
    "            num2 = stack.pop() \n",
    "            res = num1 * num2 \n",
    "            stack.push(res) \n",
    "        else: \n",
    "            stack.push(int(token))\n",
    "    return stack.pop() "
   ]
  },
  {
   "cell_type": "markdown",
   "metadata": {},
   "source": [
    "### Evaluate the value for ``\"56 47 + 2 *\"``"
   ]
  },
  {
   "cell_type": "code",
   "execution_count": 11,
   "metadata": {},
   "outputs": [
    {
     "name": "stdout",
     "output_type": "stream",
     "text": [
      "206\n"
     ]
    }
   ],
   "source": [
    "expr = \"56 47 + 2 *\" \n",
    "res = evalPostfix(expr) \n",
    "print(res) "
   ]
  },
  {
   "cell_type": "markdown",
   "metadata": {},
   "source": [
    "# Queues"
   ]
  },
  {
   "cell_type": "markdown",
   "metadata": {},
   "source": [
    "In real life, a **queue** is a line of customers waiting for service of some kind. In most cases, the first customer in line is the next customer to be served. There are exceptions, though. At airports, customers whose flights are leaving soon are sometimes taken from the middle of the queue. At supermarkets, a polite customer might let someone with only a few items go first."
   ]
  },
  {
   "cell_type": "markdown",
   "metadata": {},
   "source": [
    "The rule that determines who goes next is called the **queueing policy**. The simplest queueing policy is called **FIFO**, for “first-in-first-out.” The most general queueing policy is **priority queueing**, in which each customer is assigned a priority and the customer with the highest priority goes first, regardless of the order of arrival. "
   ]
  },
  {
   "cell_type": "markdown",
   "metadata": {},
   "source": [
    "![alt text](../figures/queue.png)\n",
    "https://www.quora.com/What-is-a-queue-in-data-structure"
   ]
  },
  {
   "cell_type": "markdown",
   "metadata": {},
   "source": [
    "### Implement a class ``Queue`` that has attirbutes length and head where the initial values are ``0`` and ``None``, respectively."
   ]
  },
  {
   "cell_type": "code",
   "execution_count": null,
   "metadata": {},
   "outputs": [],
   "source": [
    "class Queue(): \n",
    "    def __init__(self): \n",
    "        self.length = 0 \n",
    "        self.head = None "
   ]
  },
  {
   "cell_type": "markdown",
   "metadata": {},
   "source": [
    "### Add a method ``isEmpty`` to the class ``Queue`` that returns ``True`` if the queue is empty."
   ]
  },
  {
   "cell_type": "code",
   "execution_count": null,
   "metadata": {},
   "outputs": [],
   "source": [
    "class Queue(): \n",
    "    def __init__(self): \n",
    "        self.length = 0 \n",
    "        self.head = None \n",
    "    def isEmpty(self): \n",
    "        return self.length == 0 "
   ]
  },
  {
   "cell_type": "markdown",
   "metadata": {},
   "source": [
    "### Add a method ``insert`` to the class ``Queue`` that adds a new item to the queue. The method takes ``data`` as an argument."
   ]
  },
  {
   "cell_type": "code",
   "execution_count": 20,
   "metadata": {},
   "outputs": [],
   "source": [
    "class Queue(): \n",
    "    def __init__(self): \n",
    "        self.length = 0 \n",
    "        self.head = None \n",
    "    def isEmpty(self): \n",
    "        return self.length == 0 \n",
    "    def insert(self, data): \n",
    "        node = Node(data) \n",
    "        if self.head is None: \n",
    "            self.head = node \n",
    "        else: \n",
    "            last = self.head \n",
    "            while last.next: \n",
    "                last = last.next\n",
    "            last.next = node \n",
    "        self.length += 1 "
   ]
  },
  {
   "cell_type": "markdown",
   "metadata": {},
   "source": [
    "### Add a method ``remove`` to the class ``Queue`` that removes an item from the queue and returns the value of that item."
   ]
  },
  {
   "cell_type": "code",
   "execution_count": 22,
   "metadata": {},
   "outputs": [],
   "source": [
    "class Queue(): \n",
    "    def __init__(self): \n",
    "        self.length = 0 \n",
    "        self.head = None \n",
    "    def isEmpty(self): \n",
    "        return self.length == 0 \n",
    "    def insert(self, data): \n",
    "        node = Node(data) \n",
    "        if self.head is None: \n",
    "            self.head = node \n",
    "        else: \n",
    "            last = self.head \n",
    "            while last.next: \n",
    "                last = last.next\n",
    "            last.next = node \n",
    "        self.length += 1 \n",
    "    def remove(self): \n",
    "        data = self.head.data \n",
    "        self.head = self.head.next \n",
    "        self.length -= 1 \n",
    "        return data "
   ]
  },
  {
   "cell_type": "code",
   "execution_count": 24,
   "metadata": {},
   "outputs": [
    {
     "name": "stdout",
     "output_type": "stream",
     "text": [
      "1\n",
      "2\n",
      "3\n",
      "4\n"
     ]
    }
   ],
   "source": [
    "q = Queue() \n",
    "q.insert(1) \n",
    "q.insert(2) \n",
    "q.insert(3) \n",
    "q.insert(4) \n",
    "\n",
    "while q.length != 0: \n",
    "    print(q.remove())"
   ]
  },
  {
   "cell_type": "markdown",
   "metadata": {},
   "source": [
    "**Performance Characteristics**: First look at ``remove``. There are no loops or function calls here, suggesting that the runtime of this method is the same every time. Such a method is called a **constant time** operation. In reality, the method might be slightly faster when the list is empty since it skips the body of the conditional, but that difference is not significant. The performance of **insert** is very different. In the general case, we have to traverse the list to find the last element. This traversal takes time proportional to the length of the list. Since the runtime is a linear function of the length, this method is called **linear time**. Compared to constant time, that’s very bad."
   ]
  },
  {
   "cell_type": "markdown",
   "metadata": {},
   "source": [
    "### Implement a class ``ImprovedQueue`` that can perform all operations in constant time."
   ]
  },
  {
   "cell_type": "code",
   "execution_count": null,
   "metadata": {},
   "outputs": [],
   "source": []
  },
  {
   "cell_type": "code",
   "execution_count": null,
   "metadata": {},
   "outputs": [],
   "source": []
  },
  {
   "cell_type": "markdown",
   "metadata": {},
   "source": [
    "### Create a class ``PriorityQueue`` that has an attribute a Python list that contains the items in the queue."
   ]
  },
  {
   "cell_type": "code",
   "execution_count": null,
   "metadata": {},
   "outputs": [],
   "source": []
  },
  {
   "cell_type": "markdown",
   "metadata": {},
   "source": [
    "### Add ``isEmpty`` method to ``PriorityQueue``."
   ]
  },
  {
   "cell_type": "code",
   "execution_count": null,
   "metadata": {},
   "outputs": [],
   "source": []
  },
  {
   "cell_type": "markdown",
   "metadata": {},
   "source": [
    "### Add ``insert`` method to ``PriorityQueue``."
   ]
  },
  {
   "cell_type": "code",
   "execution_count": null,
   "metadata": {},
   "outputs": [],
   "source": []
  },
  {
   "cell_type": "markdown",
   "metadata": {},
   "source": [
    "### Add ``remove`` method to ``PriorityQueue``."
   ]
  },
  {
   "cell_type": "code",
   "execution_count": null,
   "metadata": {},
   "outputs": [],
   "source": []
  },
  {
   "cell_type": "markdown",
   "metadata": {},
   "source": [
    "### Demonstrate how ``PriorityQueue`` works"
   ]
  },
  {
   "cell_type": "code",
   "execution_count": null,
   "metadata": {},
   "outputs": [],
   "source": []
  },
  {
   "cell_type": "markdown",
   "metadata": {},
   "source": [
    "### Implement a class ``Golfer`` that takes ``name`` and ``score`` as arguments and creates attributes for them."
   ]
  },
  {
   "cell_type": "code",
   "execution_count": null,
   "metadata": {},
   "outputs": [],
   "source": []
  },
  {
   "cell_type": "markdown",
   "metadata": {},
   "source": [
    "### Overwrite ``print`` function for ``Golfer`` object so that it prints \"Tiger Woods   : 61\"."
   ]
  },
  {
   "cell_type": "code",
   "execution_count": null,
   "metadata": {},
   "outputs": [],
   "source": []
  },
  {
   "cell_type": "code",
   "execution_count": null,
   "metadata": {},
   "outputs": [],
   "source": []
  },
  {
   "cell_type": "markdown",
   "metadata": {},
   "source": [
    "### Overwrite comparison functions for Golfer object so that smaller score is more."
   ]
  },
  {
   "cell_type": "code",
   "execution_count": null,
   "metadata": {},
   "outputs": [],
   "source": []
  },
  {
   "cell_type": "markdown",
   "metadata": {},
   "source": [
    "### Test ``PriorityQueue`` with ``Golfer`` class."
   ]
  },
  {
   "cell_type": "code",
   "execution_count": null,
   "metadata": {},
   "outputs": [],
   "source": []
  }
 ],
 "metadata": {
  "kernelspec": {
   "display_name": "Python 3 (ipykernel)",
   "language": "python",
   "name": "python3"
  },
  "language_info": {
   "codemirror_mode": {
    "name": "ipython",
    "version": 3
   },
   "file_extension": ".py",
   "mimetype": "text/x-python",
   "name": "python",
   "nbconvert_exporter": "python",
   "pygments_lexer": "ipython3",
   "version": "3.9.13"
  }
 },
 "nbformat": 4,
 "nbformat_minor": 2
}
